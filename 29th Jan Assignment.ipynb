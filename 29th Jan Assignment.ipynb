{
 "cells": [
  {
   "cell_type": "code",
   "execution_count": 2,
   "id": "e0051c6e",
   "metadata": {},
   "outputs": [],
   "source": [
    "#who developed python programming language?\n",
    "\n",
    "#Guido van Rossum"
   ]
  },
  {
   "cell_type": "code",
   "execution_count": 3,
   "id": "f28d068b",
   "metadata": {},
   "outputs": [],
   "source": [
    "#which type of programming does python support?\n",
    "\n",
    "#Object oriented programming and structured programming"
   ]
  },
  {
   "cell_type": "code",
   "execution_count": 4,
   "id": "87e8344a",
   "metadata": {},
   "outputs": [],
   "source": [
    "#is python case sensitive when dealing eith identifiers?\n",
    "\n",
    "#yes because python is a case sensitive language"
   ]
  },
  {
   "cell_type": "code",
   "execution_count": 5,
   "id": "814922ea",
   "metadata": {},
   "outputs": [],
   "source": [
    "#What is the correct extension of python file?\n",
    "\n",
    "#.py extension"
   ]
  },
  {
   "cell_type": "code",
   "execution_count": 7,
   "id": "782c245a",
   "metadata": {},
   "outputs": [
    {
     "data": {
      "text/plain": [
       "'pyhton code is both compiled as well as an interpreted language,\\nwhich means when we run a python code ,it is first compiled and then interpreted line by line.'"
      ]
     },
     "execution_count": 7,
     "metadata": {},
     "output_type": "execute_result"
    }
   ],
   "source": [
    "#is python code compiled code or interpreted?\n",
    "\n",
    "\"\"\"pyhton code is both compiled as well as an interpreted language,\n",
    "which means when we run a python code ,it is first compiled and then interpreted line by line.\"\"\""
   ]
  },
  {
   "cell_type": "code",
   "execution_count": 8,
   "id": "260bac53",
   "metadata": {},
   "outputs": [],
   "source": [
    "#name a few blocks of code used to define in python language?\n",
    "\n",
    "\n",
    "# A module,a function body, and a class defination"
   ]
  },
  {
   "cell_type": "code",
   "execution_count": 9,
   "id": "40f80a2f",
   "metadata": {},
   "outputs": [
    {
     "data": {
      "text/plain": [
       "'Hash Character(#)'"
      ]
     },
     "execution_count": 9,
     "metadata": {},
     "output_type": "execute_result"
    }
   ],
   "source": [
    "#state a character used to give single-line comments in python?\n",
    "\n",
    "\"\"\"Hash Character(#)\"\"\""
   ]
  },
  {
   "cell_type": "code",
   "execution_count": 10,
   "id": "8fe9ca19",
   "metadata": {},
   "outputs": [],
   "source": [
    "#mention functions which can help us to find the version of python that we are currently working on?\n",
    "\n",
    "#Using sys. version method\n",
    "#Using python_version() function \n",
    "#Using python-V command"
   ]
  },
  {
   "cell_type": "code",
   "execution_count": 11,
   "id": "9840acc8",
   "metadata": {},
   "outputs": [],
   "source": [
    "#python supports the creation of anonymous functions at runtime,using a construct called..............\n",
    "\n",
    "\n",
    "#lambda"
   ]
  },
  {
   "cell_type": "code",
   "execution_count": 12,
   "id": "ce134b7c",
   "metadata": {},
   "outputs": [],
   "source": [
    "#what does pip stand for python?\n",
    "\n",
    "#pip stands for:- preferred installer program "
   ]
  },
  {
   "cell_type": "code",
   "execution_count": 13,
   "id": "c07f4196",
   "metadata": {},
   "outputs": [],
   "source": [
    "#Mention a few built-in function in python?\n",
    "\n",
    "#print() function \n",
    "#type() function \n",
    "#input() function "
   ]
  },
  {
   "cell_type": "code",
   "execution_count": 14,
   "id": "a51b1082",
   "metadata": {},
   "outputs": [],
   "source": [
    "#what is the maximum possible length of an identifier in python?\n",
    "\n",
    "#79 characters"
   ]
  },
  {
   "cell_type": "code",
   "execution_count": 15,
   "id": "1668705d",
   "metadata": {},
   "outputs": [],
   "source": [
    "#what are the benefits of using python?\n",
    "\n",
    "\n",
    "#Easy to learn and use.\n",
    "#Big data, macine learning and cloud cmputing\n",
    "#Mature and supportive Python Community \n",
    "#First choice Language \n",
    "#Use of python in academics \n",
    "#It is interpreted "
   ]
  },
  {
   "cell_type": "code",
   "execution_count": 16,
   "id": "de33c57a",
   "metadata": {},
   "outputs": [],
   "source": [
    "#How is memory managed in python?\n",
    "\n",
    "#Memory management in python involves a private heap containing all pyhton objects and data structures"
   ]
  },
  {
   "cell_type": "code",
   "execution_count": 1,
   "id": "a5bd0c7a",
   "metadata": {},
   "outputs": [],
   "source": [
    "#How to install python on windows and set path variables?\n",
    "\n",
    "# Manually add Python to Windows Path\n",
    "# First, navigate to the Windows Environment Variables screen (where you can add/edit your paths):\n",
    "\n",
    "# Press the Windows Key + R on your keyboard in order to open the Run dialog box\n",
    "# Type sysdm.cpl to open the System Properties\n",
    "# Go to the Advanced tab and then click on the ‘Environment Variables…‘\n",
    "# That should take you to the Environment Variables screen, where you can add/edit your paths."
   ]
  },
  {
   "cell_type": "code",
   "execution_count": null,
   "id": "751010cf",
   "metadata": {},
   "outputs": [],
   "source": [
    "#is indentation required in python?\n",
    "\n",
    "#yes indentation required in python programming language."
   ]
  }
 ],
 "metadata": {
  "kernelspec": {
   "display_name": "Python 3 (ipykernel)",
   "language": "python",
   "name": "python3"
  },
  "language_info": {
   "codemirror_mode": {
    "name": "ipython",
    "version": 3
   },
   "file_extension": ".py",
   "mimetype": "text/x-python",
   "name": "python",
   "nbconvert_exporter": "python",
   "pygments_lexer": "ipython3",
   "version": "3.11.1"
  }
 },
 "nbformat": 4,
 "nbformat_minor": 5
}
